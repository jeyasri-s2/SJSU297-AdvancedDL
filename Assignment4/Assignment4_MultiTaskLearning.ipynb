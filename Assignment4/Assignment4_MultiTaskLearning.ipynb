{
  "nbformat": 4,
  "nbformat_minor": 0,
  "metadata": {
    "colab": {
      "name": "Assignment4-MultiTaskLearning.ipynb",
      "provenance": [],
      "collapsed_sections": [],
      "authorship_tag": "ABX9TyMVMeTCr7VU6AOCQk35gnxl",
      "include_colab_link": true
    },
    "kernelspec": {
      "name": "python3",
      "display_name": "Python 3"
    }
  },
  "cells": [
    {
      "cell_type": "markdown",
      "metadata": {
        "id": "view-in-github",
        "colab_type": "text"
      },
      "source": [
        "<a href=\"https://colab.research.google.com/github/jeyasri-s2/SJSU297-AdvancedDL/blob/master/Assignment4/Assignment4_MultiTaskLearning.ipynb\" target=\"_parent\"><img src=\"https://colab.research.google.com/assets/colab-badge.svg\" alt=\"Open In Colab\"/></a>"
      ]
    },
    {
      "cell_type": "markdown",
      "metadata": {
        "id": "IXQTG-bMnYdI"
      },
      "source": [
        "# Goal:\n",
        "\n",
        "* Using AutoKeras to implement **Multi-task learning** using ***MNIST dataset*** for Image classification and Image Regression"
      ]
    },
    {
      "cell_type": "code",
      "metadata": {
        "id": "1L4vvCfmQUNA",
        "outputId": "feb12e78-256a-4703-abd2-816e5a43a8ef",
        "colab": {
          "base_uri": "https://localhost:8080/"
        }
      },
      "source": [
        "!pip install autokeras\n",
        "!pip install git+https://github.com/keras-team/keras-tuner.git@1.0.2rc4\n"
      ],
      "execution_count": null,
      "outputs": [
        {
          "output_type": "stream",
          "text": [
            "Collecting autokeras\n",
            "\u001b[?25l  Downloading https://files.pythonhosted.org/packages/d5/d8/8300f3cf43dd4b669c0e589c8eedaf735c215722a9f607c1d5ec0644eb7e/autokeras-1.0.10-py3-none-any.whl (143kB)\n",
            "\r\u001b[K     |██▎                             | 10kB 17.3MB/s eta 0:00:01\r\u001b[K     |████▋                           | 20kB 2.9MB/s eta 0:00:01\r\u001b[K     |██████▉                         | 30kB 3.3MB/s eta 0:00:01\r\u001b[K     |█████████▏                      | 40kB 3.4MB/s eta 0:00:01\r\u001b[K     |███████████▍                    | 51kB 3.3MB/s eta 0:00:01\r\u001b[K     |█████████████▊                  | 61kB 3.6MB/s eta 0:00:01\r\u001b[K     |████████████████                | 71kB 3.8MB/s eta 0:00:01\r\u001b[K     |██████████████████▎             | 81kB 4.0MB/s eta 0:00:01\r\u001b[K     |████████████████████▋           | 92kB 4.0MB/s eta 0:00:01\r\u001b[K     |██████████████████████▉         | 102kB 4.2MB/s eta 0:00:01\r\u001b[K     |█████████████████████████▏      | 112kB 4.2MB/s eta 0:00:01\r\u001b[K     |███████████████████████████▍    | 122kB 4.2MB/s eta 0:00:01\r\u001b[K     |█████████████████████████████▊  | 133kB 4.2MB/s eta 0:00:01\r\u001b[K     |████████████████████████████████| 143kB 4.2MB/s \n",
            "\u001b[?25hRequirement already satisfied: tensorflow>=2.3.0 in /usr/local/lib/python3.6/dist-packages (from autokeras) (2.3.0)\n",
            "Requirement already satisfied: scikit-learn in /usr/local/lib/python3.6/dist-packages (from autokeras) (0.22.2.post1)\n",
            "Requirement already satisfied: pandas in /usr/local/lib/python3.6/dist-packages (from autokeras) (1.1.3)\n",
            "Collecting tf-models-official\n",
            "\u001b[?25l  Downloading https://files.pythonhosted.org/packages/5b/33/91e5e90e3e96292717245d3fe87eb3b35b07c8a2113f2da7f482040facdb/tf_models_official-2.3.0-py2.py3-none-any.whl (840kB)\n",
            "\u001b[K     |████████████████████████████████| 849kB 6.7MB/s \n",
            "\u001b[?25hRequirement already satisfied: packaging in /usr/local/lib/python3.6/dist-packages (from autokeras) (20.4)\n",
            "Requirement already satisfied: numpy<1.19.0,>=1.16.0 in /usr/local/lib/python3.6/dist-packages (from tensorflow>=2.3.0->autokeras) (1.18.5)\n",
            "Requirement already satisfied: opt-einsum>=2.3.2 in /usr/local/lib/python3.6/dist-packages (from tensorflow>=2.3.0->autokeras) (3.3.0)\n",
            "Requirement already satisfied: tensorflow-estimator<2.4.0,>=2.3.0 in /usr/local/lib/python3.6/dist-packages (from tensorflow>=2.3.0->autokeras) (2.3.0)\n",
            "Requirement already satisfied: wrapt>=1.11.1 in /usr/local/lib/python3.6/dist-packages (from tensorflow>=2.3.0->autokeras) (1.12.1)\n",
            "Requirement already satisfied: astunparse==1.6.3 in /usr/local/lib/python3.6/dist-packages (from tensorflow>=2.3.0->autokeras) (1.6.3)\n",
            "Requirement already satisfied: wheel>=0.26 in /usr/local/lib/python3.6/dist-packages (from tensorflow>=2.3.0->autokeras) (0.35.1)\n",
            "Requirement already satisfied: absl-py>=0.7.0 in /usr/local/lib/python3.6/dist-packages (from tensorflow>=2.3.0->autokeras) (0.10.0)\n",
            "Requirement already satisfied: tensorboard<3,>=2.3.0 in /usr/local/lib/python3.6/dist-packages (from tensorflow>=2.3.0->autokeras) (2.3.0)\n",
            "Requirement already satisfied: keras-preprocessing<1.2,>=1.1.1 in /usr/local/lib/python3.6/dist-packages (from tensorflow>=2.3.0->autokeras) (1.1.2)\n",
            "Requirement already satisfied: six>=1.12.0 in /usr/local/lib/python3.6/dist-packages (from tensorflow>=2.3.0->autokeras) (1.15.0)\n",
            "Requirement already satisfied: termcolor>=1.1.0 in /usr/local/lib/python3.6/dist-packages (from tensorflow>=2.3.0->autokeras) (1.1.0)\n",
            "Requirement already satisfied: google-pasta>=0.1.8 in /usr/local/lib/python3.6/dist-packages (from tensorflow>=2.3.0->autokeras) (0.2.0)\n",
            "Requirement already satisfied: h5py<2.11.0,>=2.10.0 in /usr/local/lib/python3.6/dist-packages (from tensorflow>=2.3.0->autokeras) (2.10.0)\n",
            "Requirement already satisfied: scipy==1.4.1 in /usr/local/lib/python3.6/dist-packages (from tensorflow>=2.3.0->autokeras) (1.4.1)\n",
            "Requirement already satisfied: protobuf>=3.9.2 in /usr/local/lib/python3.6/dist-packages (from tensorflow>=2.3.0->autokeras) (3.12.4)\n",
            "Requirement already satisfied: gast==0.3.3 in /usr/local/lib/python3.6/dist-packages (from tensorflow>=2.3.0->autokeras) (0.3.3)\n",
            "Requirement already satisfied: grpcio>=1.8.6 in /usr/local/lib/python3.6/dist-packages (from tensorflow>=2.3.0->autokeras) (1.33.1)\n",
            "Requirement already satisfied: joblib>=0.11 in /usr/local/lib/python3.6/dist-packages (from scikit-learn->autokeras) (0.17.0)\n",
            "Requirement already satisfied: python-dateutil>=2.7.3 in /usr/local/lib/python3.6/dist-packages (from pandas->autokeras) (2.8.1)\n",
            "Requirement already satisfied: pytz>=2017.2 in /usr/local/lib/python3.6/dist-packages (from pandas->autokeras) (2018.9)\n",
            "Requirement already satisfied: google-cloud-bigquery>=0.31.0 in /usr/local/lib/python3.6/dist-packages (from tf-models-official->autokeras) (1.21.0)\n",
            "Requirement already satisfied: pyyaml in /usr/local/lib/python3.6/dist-packages (from tf-models-official->autokeras) (3.13)\n",
            "Requirement already satisfied: dataclasses in /usr/local/lib/python3.6/dist-packages (from tf-models-official->autokeras) (0.7)\n",
            "Requirement already satisfied: Pillow in /usr/local/lib/python3.6/dist-packages (from tf-models-official->autokeras) (7.0.0)\n",
            "Requirement already satisfied: gin-config in /usr/local/lib/python3.6/dist-packages (from tf-models-official->autokeras) (0.3.0)\n",
            "Requirement already satisfied: kaggle>=1.3.9 in /usr/local/lib/python3.6/dist-packages (from tf-models-official->autokeras) (1.5.9)\n",
            "Collecting tf-slim>=1.1.0\n",
            "\u001b[?25l  Downloading https://files.pythonhosted.org/packages/02/97/b0f4a64df018ca018cc035d44f2ef08f91e2e8aa67271f6f19633a015ff7/tf_slim-1.1.0-py2.py3-none-any.whl (352kB)\n",
            "\u001b[K     |████████████████████████████████| 358kB 8.6MB/s \n",
            "\u001b[?25hRequirement already satisfied: matplotlib in /usr/local/lib/python3.6/dist-packages (from tf-models-official->autokeras) (3.2.2)\n",
            "Collecting opencv-python-headless\n",
            "\u001b[?25l  Downloading https://files.pythonhosted.org/packages/e2/e2/6670da2b12544858657058a5db2f088a18c56d0144bef8d178ad4734b7a3/opencv_python_headless-4.4.0.44-cp36-cp36m-manylinux2014_x86_64.whl (36.7MB)\n",
            "\u001b[K     |████████████████████████████████| 36.7MB 127kB/s \n",
            "\u001b[?25hRequirement already satisfied: tensorflow-addons in /usr/local/lib/python3.6/dist-packages (from tf-models-official->autokeras) (0.8.3)\n",
            "Requirement already satisfied: tensorflow-datasets in /usr/local/lib/python3.6/dist-packages (from tf-models-official->autokeras) (4.0.1)\n",
            "Requirement already satisfied: tensorflow-hub>=0.6.0 in /usr/local/lib/python3.6/dist-packages (from tf-models-official->autokeras) (0.9.0)\n",
            "Collecting py-cpuinfo>=3.3.0\n",
            "\u001b[?25l  Downloading https://files.pythonhosted.org/packages/f6/f5/8e6e85ce2e9f6e05040cf0d4e26f43a4718bcc4bce988b433276d4b1a5c1/py-cpuinfo-7.0.0.tar.gz (95kB)\n",
            "\u001b[K     |████████████████████████████████| 102kB 11.1MB/s \n",
            "\u001b[?25hRequirement already satisfied: psutil>=5.4.3 in /usr/local/lib/python3.6/dist-packages (from tf-models-official->autokeras) (5.4.8)\n",
            "Requirement already satisfied: Cython in /usr/local/lib/python3.6/dist-packages (from tf-models-official->autokeras) (0.29.21)\n",
            "Requirement already satisfied: google-api-python-client>=1.6.7 in /usr/local/lib/python3.6/dist-packages (from tf-models-official->autokeras) (1.7.12)\n",
            "Collecting sentencepiece\n",
            "\u001b[?25l  Downloading https://files.pythonhosted.org/packages/e5/2d/6d4ca4bef9a67070fa1cac508606328329152b1df10bdf31fb6e4e727894/sentencepiece-0.1.94-cp36-cp36m-manylinux2014_x86_64.whl (1.1MB)\n",
            "\u001b[K     |████████████████████████████████| 1.1MB 23.7MB/s \n",
            "\u001b[?25hCollecting tensorflow-model-optimization>=0.2.1\n",
            "\u001b[?25l  Downloading https://files.pythonhosted.org/packages/55/38/4fd48ea1bfcb0b6e36d949025200426fe9c3a8bfae029f0973d85518fa5a/tensorflow_model_optimization-0.5.0-py2.py3-none-any.whl (172kB)\n",
            "\u001b[K     |████████████████████████████████| 174kB 43.9MB/s \n",
            "\u001b[?25hRequirement already satisfied: pyparsing>=2.0.2 in /usr/local/lib/python3.6/dist-packages (from packaging->autokeras) (2.4.7)\n",
            "Requirement already satisfied: google-auth-oauthlib<0.5,>=0.4.1 in /usr/local/lib/python3.6/dist-packages (from tensorboard<3,>=2.3.0->tensorflow>=2.3.0->autokeras) (0.4.1)\n",
            "Requirement already satisfied: tensorboard-plugin-wit>=1.6.0 in /usr/local/lib/python3.6/dist-packages (from tensorboard<3,>=2.3.0->tensorflow>=2.3.0->autokeras) (1.7.0)\n",
            "Requirement already satisfied: markdown>=2.6.8 in /usr/local/lib/python3.6/dist-packages (from tensorboard<3,>=2.3.0->tensorflow>=2.3.0->autokeras) (3.3.2)\n",
            "Requirement already satisfied: werkzeug>=0.11.15 in /usr/local/lib/python3.6/dist-packages (from tensorboard<3,>=2.3.0->tensorflow>=2.3.0->autokeras) (1.0.1)\n",
            "Requirement already satisfied: setuptools>=41.0.0 in /usr/local/lib/python3.6/dist-packages (from tensorboard<3,>=2.3.0->tensorflow>=2.3.0->autokeras) (50.3.2)\n",
            "Requirement already satisfied: google-auth<2,>=1.6.3 in /usr/local/lib/python3.6/dist-packages (from tensorboard<3,>=2.3.0->tensorflow>=2.3.0->autokeras) (1.17.2)\n",
            "Requirement already satisfied: requests<3,>=2.21.0 in /usr/local/lib/python3.6/dist-packages (from tensorboard<3,>=2.3.0->tensorflow>=2.3.0->autokeras) (2.23.0)\n",
            "Requirement already satisfied: google-resumable-media!=0.4.0,<0.5.0dev,>=0.3.1 in /usr/local/lib/python3.6/dist-packages (from google-cloud-bigquery>=0.31.0->tf-models-official->autokeras) (0.4.1)\n",
            "Requirement already satisfied: google-cloud-core<2.0dev,>=1.0.3 in /usr/local/lib/python3.6/dist-packages (from google-cloud-bigquery>=0.31.0->tf-models-official->autokeras) (1.0.3)\n",
            "Requirement already satisfied: urllib3 in /usr/local/lib/python3.6/dist-packages (from kaggle>=1.3.9->tf-models-official->autokeras) (1.24.3)\n",
            "Requirement already satisfied: tqdm in /usr/local/lib/python3.6/dist-packages (from kaggle>=1.3.9->tf-models-official->autokeras) (4.41.1)\n",
            "Requirement already satisfied: certifi in /usr/local/lib/python3.6/dist-packages (from kaggle>=1.3.9->tf-models-official->autokeras) (2020.6.20)\n",
            "Requirement already satisfied: python-slugify in /usr/local/lib/python3.6/dist-packages (from kaggle>=1.3.9->tf-models-official->autokeras) (4.0.1)\n",
            "Requirement already satisfied: slugify in /usr/local/lib/python3.6/dist-packages (from kaggle>=1.3.9->tf-models-official->autokeras) (0.0.1)\n",
            "Requirement already satisfied: cycler>=0.10 in /usr/local/lib/python3.6/dist-packages (from matplotlib->tf-models-official->autokeras) (0.10.0)\n",
            "Requirement already satisfied: kiwisolver>=1.0.1 in /usr/local/lib/python3.6/dist-packages (from matplotlib->tf-models-official->autokeras) (1.2.0)\n",
            "Requirement already satisfied: typeguard in /usr/local/lib/python3.6/dist-packages (from tensorflow-addons->tf-models-official->autokeras) (2.7.1)\n",
            "Requirement already satisfied: dm-tree in /usr/local/lib/python3.6/dist-packages (from tensorflow-datasets->tf-models-official->autokeras) (0.1.5)\n",
            "Requirement already satisfied: dill in /usr/local/lib/python3.6/dist-packages (from tensorflow-datasets->tf-models-official->autokeras) (0.3.2)\n",
            "Requirement already satisfied: promise in /usr/local/lib/python3.6/dist-packages (from tensorflow-datasets->tf-models-official->autokeras) (2.3)\n",
            "Requirement already satisfied: tensorflow-metadata in /usr/local/lib/python3.6/dist-packages (from tensorflow-datasets->tf-models-official->autokeras) (0.24.0)\n",
            "Requirement already satisfied: future in /usr/local/lib/python3.6/dist-packages (from tensorflow-datasets->tf-models-official->autokeras) (0.16.0)\n",
            "Requirement already satisfied: importlib-resources; python_version < \"3.9\" in /usr/local/lib/python3.6/dist-packages (from tensorflow-datasets->tf-models-official->autokeras) (3.1.0)\n",
            "Requirement already satisfied: attrs>=18.1.0 in /usr/local/lib/python3.6/dist-packages (from tensorflow-datasets->tf-models-official->autokeras) (20.2.0)\n",
            "Requirement already satisfied: google-auth-httplib2>=0.0.3 in /usr/local/lib/python3.6/dist-packages (from google-api-python-client>=1.6.7->tf-models-official->autokeras) (0.0.4)\n",
            "Requirement already satisfied: httplib2<1dev,>=0.17.0 in /usr/local/lib/python3.6/dist-packages (from google-api-python-client>=1.6.7->tf-models-official->autokeras) (0.17.4)\n",
            "Requirement already satisfied: uritemplate<4dev,>=3.0.0 in /usr/local/lib/python3.6/dist-packages (from google-api-python-client>=1.6.7->tf-models-official->autokeras) (3.0.1)\n",
            "Requirement already satisfied: requests-oauthlib>=0.7.0 in /usr/local/lib/python3.6/dist-packages (from google-auth-oauthlib<0.5,>=0.4.1->tensorboard<3,>=2.3.0->tensorflow>=2.3.0->autokeras) (1.3.0)\n",
            "Requirement already satisfied: importlib-metadata; python_version < \"3.8\" in /usr/local/lib/python3.6/dist-packages (from markdown>=2.6.8->tensorboard<3,>=2.3.0->tensorflow>=2.3.0->autokeras) (2.0.0)\n",
            "Requirement already satisfied: rsa<5,>=3.1.4; python_version >= \"3\" in /usr/local/lib/python3.6/dist-packages (from google-auth<2,>=1.6.3->tensorboard<3,>=2.3.0->tensorflow>=2.3.0->autokeras) (4.6)\n",
            "Requirement already satisfied: cachetools<5.0,>=2.0.0 in /usr/local/lib/python3.6/dist-packages (from google-auth<2,>=1.6.3->tensorboard<3,>=2.3.0->tensorflow>=2.3.0->autokeras) (4.1.1)\n",
            "Requirement already satisfied: pyasn1-modules>=0.2.1 in /usr/local/lib/python3.6/dist-packages (from google-auth<2,>=1.6.3->tensorboard<3,>=2.3.0->tensorflow>=2.3.0->autokeras) (0.2.8)\n",
            "Requirement already satisfied: idna<3,>=2.5 in /usr/local/lib/python3.6/dist-packages (from requests<3,>=2.21.0->tensorboard<3,>=2.3.0->tensorflow>=2.3.0->autokeras) (2.10)\n",
            "Requirement already satisfied: chardet<4,>=3.0.2 in /usr/local/lib/python3.6/dist-packages (from requests<3,>=2.21.0->tensorboard<3,>=2.3.0->tensorflow>=2.3.0->autokeras) (3.0.4)\n",
            "Requirement already satisfied: google-api-core<2.0.0dev,>=1.14.0 in /usr/local/lib/python3.6/dist-packages (from google-cloud-core<2.0dev,>=1.0.3->google-cloud-bigquery>=0.31.0->tf-models-official->autokeras) (1.16.0)\n",
            "Requirement already satisfied: text-unidecode>=1.3 in /usr/local/lib/python3.6/dist-packages (from python-slugify->kaggle>=1.3.9->tf-models-official->autokeras) (1.3)\n",
            "Requirement already satisfied: googleapis-common-protos<2,>=1.52.0 in /usr/local/lib/python3.6/dist-packages (from tensorflow-metadata->tensorflow-datasets->tf-models-official->autokeras) (1.52.0)\n",
            "Requirement already satisfied: zipp>=0.4; python_version < \"3.8\" in /usr/local/lib/python3.6/dist-packages (from importlib-resources; python_version < \"3.9\"->tensorflow-datasets->tf-models-official->autokeras) (3.3.1)\n",
            "Requirement already satisfied: oauthlib>=3.0.0 in /usr/local/lib/python3.6/dist-packages (from requests-oauthlib>=0.7.0->google-auth-oauthlib<0.5,>=0.4.1->tensorboard<3,>=2.3.0->tensorflow>=2.3.0->autokeras) (3.1.0)\n",
            "Requirement already satisfied: pyasn1>=0.1.3 in /usr/local/lib/python3.6/dist-packages (from rsa<5,>=3.1.4; python_version >= \"3\"->google-auth<2,>=1.6.3->tensorboard<3,>=2.3.0->tensorflow>=2.3.0->autokeras) (0.4.8)\n",
            "Building wheels for collected packages: py-cpuinfo\n",
            "  Building wheel for py-cpuinfo (setup.py) ... \u001b[?25l\u001b[?25hdone\n",
            "  Created wheel for py-cpuinfo: filename=py_cpuinfo-7.0.0-cp36-none-any.whl size=20071 sha256=269d4b605ec257d9b8b82bff21495ec54c7741a8821c381625016408db8b4e27\n",
            "  Stored in directory: /root/.cache/pip/wheels/f1/93/7b/127daf0c3a5a49feb2fecd468d508067c733fba5192f726ad1\n",
            "Successfully built py-cpuinfo\n",
            "Installing collected packages: tf-slim, opencv-python-headless, py-cpuinfo, sentencepiece, tensorflow-model-optimization, tf-models-official, autokeras\n",
            "Successfully installed autokeras-1.0.10 opencv-python-headless-4.4.0.44 py-cpuinfo-7.0.0 sentencepiece-0.1.94 tensorflow-model-optimization-0.5.0 tf-models-official-2.3.0 tf-slim-1.1.0\n",
            "Collecting git+https://github.com/keras-team/keras-tuner.git@1.0.2rc4\n",
            "  Cloning https://github.com/keras-team/keras-tuner.git (to revision 1.0.2rc4) to /tmp/pip-req-build-m2u8s7wj\n",
            "  Running command git clone -q https://github.com/keras-team/keras-tuner.git /tmp/pip-req-build-m2u8s7wj\n",
            "  Running command git checkout -q 3189ab613e022d53c511348a10aed69d821f3cd1\n",
            "Requirement already satisfied: packaging in /usr/local/lib/python3.6/dist-packages (from keras-tuner==1.0.2rc4) (20.4)\n",
            "Requirement already satisfied: future in /usr/local/lib/python3.6/dist-packages (from keras-tuner==1.0.2rc4) (0.16.0)\n",
            "Requirement already satisfied: numpy<1.19.0 in /usr/local/lib/python3.6/dist-packages (from keras-tuner==1.0.2rc4) (1.18.5)\n",
            "Requirement already satisfied: tabulate in /usr/local/lib/python3.6/dist-packages (from keras-tuner==1.0.2rc4) (0.8.7)\n",
            "Collecting terminaltables\n",
            "  Downloading https://files.pythonhosted.org/packages/9b/c4/4a21174f32f8a7e1104798c445dacdc1d4df86f2f26722767034e4de4bff/terminaltables-3.1.0.tar.gz\n",
            "Collecting colorama\n",
            "  Downloading https://files.pythonhosted.org/packages/44/98/5b86278fbbf250d239ae0ecb724f8572af1c91f4a11edf4d36a206189440/colorama-0.4.4-py2.py3-none-any.whl\n",
            "Requirement already satisfied: tqdm in /usr/local/lib/python3.6/dist-packages (from keras-tuner==1.0.2rc4) (4.41.1)\n",
            "Requirement already satisfied: requests in /usr/local/lib/python3.6/dist-packages (from keras-tuner==1.0.2rc4) (2.23.0)\n",
            "Requirement already satisfied: scipy in /usr/local/lib/python3.6/dist-packages (from keras-tuner==1.0.2rc4) (1.4.1)\n",
            "Requirement already satisfied: scikit-learn in /usr/local/lib/python3.6/dist-packages (from keras-tuner==1.0.2rc4) (0.22.2.post1)\n",
            "Requirement already satisfied: pyparsing>=2.0.2 in /usr/local/lib/python3.6/dist-packages (from packaging->keras-tuner==1.0.2rc4) (2.4.7)\n",
            "Requirement already satisfied: six in /usr/local/lib/python3.6/dist-packages (from packaging->keras-tuner==1.0.2rc4) (1.15.0)\n",
            "Requirement already satisfied: urllib3!=1.25.0,!=1.25.1,<1.26,>=1.21.1 in /usr/local/lib/python3.6/dist-packages (from requests->keras-tuner==1.0.2rc4) (1.24.3)\n",
            "Requirement already satisfied: certifi>=2017.4.17 in /usr/local/lib/python3.6/dist-packages (from requests->keras-tuner==1.0.2rc4) (2020.6.20)\n",
            "Requirement already satisfied: chardet<4,>=3.0.2 in /usr/local/lib/python3.6/dist-packages (from requests->keras-tuner==1.0.2rc4) (3.0.4)\n",
            "Requirement already satisfied: idna<3,>=2.5 in /usr/local/lib/python3.6/dist-packages (from requests->keras-tuner==1.0.2rc4) (2.10)\n",
            "Requirement already satisfied: joblib>=0.11 in /usr/local/lib/python3.6/dist-packages (from scikit-learn->keras-tuner==1.0.2rc4) (0.17.0)\n",
            "Building wheels for collected packages: keras-tuner, terminaltables\n",
            "  Building wheel for keras-tuner (setup.py) ... \u001b[?25l\u001b[?25hdone\n",
            "  Created wheel for keras-tuner: filename=keras_tuner-1.0.2rc4-cp36-none-any.whl size=92365 sha256=62a073a4e7e7539e1a948b0dc5fa00d5914c98b86f3712eba8b21e05347466f4\n",
            "  Stored in directory: /tmp/pip-ephem-wheel-cache-_wkphjqp/wheels/f6/84/20/5b1be7aae47964b49fa6b39881440a3a23d2a73d84bc097aeb\n",
            "  Building wheel for terminaltables (setup.py) ... \u001b[?25l\u001b[?25hdone\n",
            "  Created wheel for terminaltables: filename=terminaltables-3.1.0-cp36-none-any.whl size=15356 sha256=0bcc21d92f612abbbba247800b25d7c7b311a0445df203e45f9bd9a6a3cdd5bf\n",
            "  Stored in directory: /root/.cache/pip/wheels/30/6b/50/6c75775b681fb36cdfac7f19799888ef9d8813aff9e379663e\n",
            "Successfully built keras-tuner terminaltables\n",
            "Installing collected packages: terminaltables, colorama, keras-tuner\n",
            "Successfully installed colorama-0.4.4 keras-tuner-1.0.2rc4 terminaltables-3.1.0\n"
          ],
          "name": "stdout"
        }
      ]
    },
    {
      "cell_type": "markdown",
      "metadata": {
        "id": "S8sH3jSIjiQk"
      },
      "source": [
        "# Load data"
      ]
    },
    {
      "cell_type": "code",
      "metadata": {
        "id": "aF54V2oAjjk1",
        "outputId": "c235ecae-e761-4243-bba9-2a2442d2185b",
        "colab": {
          "base_uri": "https://localhost:8080/"
        }
      },
      "source": [
        "import numpy as np\n",
        "import tensorflow as tf\n",
        "from tensorflow.keras.datasets import mnist\n",
        "from tensorflow.python.keras.utils.data_utils import Sequence\n",
        "import autokeras as ak\n",
        "import matplotlib.pyplot as plt\n",
        "(x_train, y_train), (x_test, y_test) = mnist.load_data()\n",
        "x_train = x_train[:100]\n",
        "y_train = y_train[:100]\n",
        "print(x_train.shape)  # (60000, 28, 28)\n",
        "print(y_train.shape)  # (60000,)\n",
        "print(y_train[:3])  # array([7, 2, 1], dtype=uint8)"
      ],
      "execution_count": null,
      "outputs": [
        {
          "output_type": "stream",
          "text": [
            "(100, 28, 28)\n",
            "(100,)\n",
            "[5 0 4]\n"
          ],
          "name": "stdout"
        }
      ]
    },
    {
      "cell_type": "markdown",
      "metadata": {
        "id": "4daRLHXnj9S2"
      },
      "source": [
        "## MNIST Dataset - Image regression"
      ]
    },
    {
      "cell_type": "code",
      "metadata": {
        "id": "HiIOuX57jq7h"
      },
      "source": [
        "regression_input_node = ak.ImageInput()\n",
        "regression_output_node = ak.ImageBlock(\n",
        "    # Only search ResNet architectures.\n",
        "    block_type=\"resnet\",\n",
        "    # Normalize the dataset.\n",
        "    normalize=False,\n",
        "    # Do not do data augmentation.\n",
        "    augment=False,\n",
        ")(regression_input_node)\n",
        "regression_output_node = ak.RegressionHead(metrics=['mae'])(regression_output_node)\n"
      ],
      "execution_count": null,
      "outputs": []
    },
    {
      "cell_type": "code",
      "metadata": {
        "id": "MXX6K_4SnA7v"
      },
      "source": [
        "input_node = ak.ImageInput()\n",
        "\n",
        "output_node = ak.Normalization()(input_node)\n",
        "output_node = ak.ImageAugmentation(horizontal_flip=False)(output_node)\n",
        "output_node = ak.ResNetBlock(version=\"v2\")(output_node)\n",
        "output_node = ak.RegressionHead(metrics=['mae'])(output_node)\n"
      ],
      "execution_count": null,
      "outputs": []
    },
    {
      "cell_type": "markdown",
      "metadata": {
        "id": "0F_zTeWhkB5b"
      },
      "source": [
        "## MNIST Dataset - Image classification"
      ]
    },
    {
      "cell_type": "code",
      "metadata": {
        "id": "62OEbTyTj2ho"
      },
      "source": [
        "classify_input_node = ak.ImageInput()\n",
        "classify_output_node = ak.ImageBlock(\n",
        "    # Only search ResNet architectures.\n",
        "    block_type=\"resnet\",\n",
        "    # Normalize the dataset.\n",
        "    normalize=True,\n",
        "    # Do not do data augmentation.\n",
        "    augment=False,\n",
        ")(classify_input_node)\n",
        "classify_output_node = ak.ClassificationHead(loss='categorical_crossentropy', metrics=['accuracy'])(classify_output_node)\n"
      ],
      "execution_count": null,
      "outputs": []
    },
    {
      "cell_type": "markdown",
      "metadata": {
        "id": "dWKZUkVXnuDt"
      },
      "source": [
        "# Using Automodel to train two tasks parallely"
      ]
    },
    {
      "cell_type": "code",
      "metadata": {
        "id": "x_JvRlbDkWU4"
      },
      "source": [
        "model = ak.AutoModel(\n",
        "    inputs=[input_node, classify_input_node],\n",
        "    outputs=[\n",
        "        output_node,#ak.RegressionHead(metrics=['mae']),\n",
        "        classify_output_node#ak.ClassificationHead(loss='categorical_crossentropy', metrics=['accuracy'])\n",
        "    ],\n",
        "    overwrite=True,\n",
        "    max_trials=2)"
      ],
      "execution_count": null,
      "outputs": []
    },
    {
      "cell_type": "markdown",
      "metadata": {
        "id": "QEnFhMginxoi"
      },
      "source": [
        "# Train model"
      ]
    },
    {
      "cell_type": "code",
      "metadata": {
        "id": "k0PuX6hklQMB",
        "outputId": "edb1a602-dfaa-426a-e11f-985f901501f8",
        "colab": {
          "base_uri": "https://localhost:8080/"
        }
      },
      "source": [
        "history = model.fit([x_train,x_train], [y_train,y_train], epochs=20)\n",
        "history"
      ],
      "execution_count": null,
      "outputs": [
        {
          "output_type": "stream",
          "text": [
            "Trial 2 Complete [00h 04m 33s]\n",
            "val_loss: 5.986042022705078\n",
            "\n",
            "Best val_loss So Far: 5.986042022705078\n",
            "Total elapsed time: 00h 09m 19s\n",
            "INFO:tensorflow:Oracle triggered exit\n",
            "Epoch 1/20\n",
            "4/4 [==============================] - 8s 2s/step - loss: 26.2999 - regression_head_1_loss: 22.3519 - classification_head_1_loss: 3.9481 - regression_head_1_mae: 3.8706 - classification_head_1_accuracy: 0.1100\n",
            "Epoch 2/20\n",
            "4/4 [==============================] - 8s 2s/step - loss: 12.6793 - regression_head_1_loss: 8.8603 - classification_head_1_loss: 3.8190 - regression_head_1_mae: 2.3358 - classification_head_1_accuracy: 0.2300\n",
            "Epoch 3/20\n",
            "4/4 [==============================] - 8s 2s/step - loss: 15.0958 - regression_head_1_loss: 11.3919 - classification_head_1_loss: 3.7039 - regression_head_1_mae: 2.7794 - classification_head_1_accuracy: 0.3100\n",
            "Epoch 4/20\n",
            "4/4 [==============================] - 8s 2s/step - loss: 12.9189 - regression_head_1_loss: 10.9706 - classification_head_1_loss: 1.9482 - regression_head_1_mae: 2.7651 - classification_head_1_accuracy: 0.5800\n",
            "Epoch 5/20\n",
            "4/4 [==============================] - 8s 2s/step - loss: 8.6743 - regression_head_1_loss: 7.1192 - classification_head_1_loss: 1.5551 - regression_head_1_mae: 2.1514 - classification_head_1_accuracy: 0.6300\n",
            "Epoch 6/20\n",
            "4/4 [==============================] - 8s 2s/step - loss: 7.3099 - regression_head_1_loss: 5.9875 - classification_head_1_loss: 1.3224 - regression_head_1_mae: 1.9382 - classification_head_1_accuracy: 0.7700\n",
            "Epoch 7/20\n",
            "4/4 [==============================] - 8s 2s/step - loss: 6.5063 - regression_head_1_loss: 6.0004 - classification_head_1_loss: 0.5058 - regression_head_1_mae: 1.8553 - classification_head_1_accuracy: 0.9000\n",
            "Epoch 8/20\n",
            "4/4 [==============================] - 8s 2s/step - loss: 8.4300 - regression_head_1_loss: 8.2428 - classification_head_1_loss: 0.1873 - regression_head_1_mae: 2.2757 - classification_head_1_accuracy: 0.9500\n",
            "Epoch 9/20\n",
            "4/4 [==============================] - 8s 2s/step - loss: 5.5338 - regression_head_1_loss: 5.3491 - classification_head_1_loss: 0.1847 - regression_head_1_mae: 1.7818 - classification_head_1_accuracy: 0.9700\n",
            "Epoch 10/20\n",
            "4/4 [==============================] - 8s 2s/step - loss: 4.3885 - regression_head_1_loss: 4.2802 - classification_head_1_loss: 0.1083 - regression_head_1_mae: 1.5709 - classification_head_1_accuracy: 0.9600\n",
            "Epoch 11/20\n",
            "4/4 [==============================] - 8s 2s/step - loss: 4.6701 - regression_head_1_loss: 4.5762 - classification_head_1_loss: 0.0939 - regression_head_1_mae: 1.7656 - classification_head_1_accuracy: 0.9900\n",
            "Epoch 12/20\n",
            "4/4 [==============================] - 8s 2s/step - loss: 4.3942 - regression_head_1_loss: 4.3521 - classification_head_1_loss: 0.0422 - regression_head_1_mae: 1.6447 - classification_head_1_accuracy: 0.9800\n",
            "Epoch 13/20\n",
            "4/4 [==============================] - 8s 2s/step - loss: 4.6649 - regression_head_1_loss: 4.6498 - classification_head_1_loss: 0.0151 - regression_head_1_mae: 1.5274 - classification_head_1_accuracy: 1.0000\n",
            "Epoch 14/20\n",
            "4/4 [==============================] - 8s 2s/step - loss: 2.4012 - regression_head_1_loss: 2.3837 - classification_head_1_loss: 0.0175 - regression_head_1_mae: 1.1750 - classification_head_1_accuracy: 0.9900\n",
            "Epoch 15/20\n",
            "4/4 [==============================] - 8s 2s/step - loss: 2.5826 - regression_head_1_loss: 2.5786 - classification_head_1_loss: 0.0039 - regression_head_1_mae: 1.2684 - classification_head_1_accuracy: 1.0000\n",
            "Epoch 16/20\n",
            "4/4 [==============================] - 8s 2s/step - loss: 3.1596 - regression_head_1_loss: 3.1557 - classification_head_1_loss: 0.0040 - regression_head_1_mae: 1.3880 - classification_head_1_accuracy: 1.0000\n",
            "Epoch 17/20\n",
            "4/4 [==============================] - 8s 2s/step - loss: 3.6267 - regression_head_1_loss: 3.6244 - classification_head_1_loss: 0.0023 - regression_head_1_mae: 1.3793 - classification_head_1_accuracy: 1.0000\n",
            "Epoch 18/20\n",
            "4/4 [==============================] - 8s 2s/step - loss: 2.6738 - regression_head_1_loss: 2.6720 - classification_head_1_loss: 0.0019 - regression_head_1_mae: 1.2225 - classification_head_1_accuracy: 1.0000\n",
            "Epoch 19/20\n",
            "4/4 [==============================] - 8s 2s/step - loss: 3.0367 - regression_head_1_loss: 3.0352 - classification_head_1_loss: 0.0015 - regression_head_1_mae: 1.3034 - classification_head_1_accuracy: 1.0000\n",
            "Epoch 20/20\n",
            "4/4 [==============================] - 8s 2s/step - loss: 3.0602 - regression_head_1_loss: 3.0590 - classification_head_1_loss: 0.0012 - regression_head_1_mae: 1.2195 - classification_head_1_accuracy: 1.0000\n",
            "INFO:tensorflow:Assets written to: ./auto_model/best_model/assets\n"
          ],
          "name": "stdout"
        }
      ]
    },
    {
      "cell_type": "markdown",
      "metadata": {
        "id": "yetsvf2en1pr"
      },
      "source": [
        "# Conclusion"
      ]
    },
    {
      "cell_type": "markdown",
      "metadata": {
        "id": "50eU_Bavn3bI"
      },
      "source": [
        "I have tried 3 trials in Auto keras and the task is executed parallely for Image classification and Image Regression"
      ]
    },
    {
      "cell_type": "markdown",
      "metadata": {
        "id": "sXrgRj-_oJ6Q"
      },
      "source": [
        "4/4 [==============================] - 8s 2s/step - loss: 1.5165 - regression_head_1_loss: 1.5162 - classification_head_1_loss: 3.0108e-04 - regression_head_1_mae: 0.9649 - classification_head_1_accuracy: 1.0000\n"
      ]
    }
  ]
}