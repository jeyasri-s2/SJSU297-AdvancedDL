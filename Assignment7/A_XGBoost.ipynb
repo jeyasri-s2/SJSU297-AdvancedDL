{
  "nbformat": 4,
  "nbformat_minor": 0,
  "metadata": {
    "colab": {
      "name": "A_XGBoost.ipynb",
      "provenance": [],
      "include_colab_link": true
    },
    "kernelspec": {
      "name": "python3",
      "display_name": "Python 3"
    }
  },
  "cells": [
    {
      "cell_type": "markdown",
      "metadata": {
        "id": "view-in-github",
        "colab_type": "text"
      },
      "source": [
        "<a href=\"https://colab.research.google.com/github/jeyasri-s2/SJSU297-AdvancedDL/blob/master/Assignment7/A_XGBoost.ipynb\" target=\"_parent\"><img src=\"https://colab.research.google.com/assets/colab-badge.svg\" alt=\"Open In Colab\"/></a>"
      ]
    },
    {
      "cell_type": "markdown",
      "metadata": {
        "id": "wP5_3DOFSElD"
      },
      "source": [
        "https://www.kaggle.com/dansbecker/xgboost\r\n",
        "\r\n",
        "Download the file form the link ^"
      ]
    },
    {
      "cell_type": "code",
      "metadata": {
        "id": "WYywNbmPSCkr"
      },
      "source": [
        "import pandas as pd\r\n",
        "from sklearn.model_selection import train_test_split\r\n",
        "from sklearn.preprocessing import Imputer\r\n",
        "\r\n",
        "data = pd.read_csv('../input/train.csv')\r\n",
        "data.dropna(axis=0, subset=['SalePrice'], inplace=True)\r\n",
        "y = data.SalePrice\r\n",
        "X = data.drop(['SalePrice'], axis=1).select_dtypes(exclude=['object'])\r\n",
        "train_X, test_X, train_y, test_y = train_test_split(X.as_matrix(), y.as_matrix(), test_size=0.25)\r\n",
        "\r\n",
        "my_imputer = Imputer()\r\n",
        "train_X = my_imputer.fit_transform(train_X)\r\n",
        "test_X = my_imputer.transform(test_X)"
      ],
      "execution_count": null,
      "outputs": []
    },
    {
      "cell_type": "code",
      "metadata": {
        "id": "hkGRscJDSOz5"
      },
      "source": [
        "from xgboost import XGBRegressor\r\n",
        "\r\n",
        "my_model = XGBRegressor()\r\n",
        "# Add silent=True to avoid printing out updates with each cycle\r\n",
        "my_model.fit(train_X, train_y, verbose=False)"
      ],
      "execution_count": null,
      "outputs": []
    },
    {
      "cell_type": "code",
      "metadata": {
        "id": "7Ka0a4thSRIn"
      },
      "source": [
        "# make predictions\r\n",
        "predictions = my_model.predict(test_X)\r\n",
        "\r\n",
        "from sklearn.metrics import mean_absolute_error\r\n",
        "print(\"Mean Absolute Error : \" + str(mean_absolute_error(predictions, test_y)))"
      ],
      "execution_count": null,
      "outputs": []
    },
    {
      "cell_type": "code",
      "metadata": {
        "id": "yzePPuQjSUto"
      },
      "source": [
        "my_model = XGBRegressor(n_estimators=1000)\r\n",
        "my_model.fit(train_X, train_y, early_stopping_rounds=5, \r\n",
        "             eval_set=[(test_X, test_y)], verbose=False)"
      ],
      "execution_count": null,
      "outputs": []
    },
    {
      "cell_type": "code",
      "metadata": {
        "id": "8AtFGvJvSW75"
      },
      "source": [
        "my_model = XGBRegressor(n_estimators=1000, learning_rate=0.05)\r\n",
        "my_model.fit(train_X, train_y, early_stopping_rounds=5, \r\n",
        "             eval_set=[(test_X, test_y)], verbose=False)"
      ],
      "execution_count": null,
      "outputs": []
    }
  ]
}